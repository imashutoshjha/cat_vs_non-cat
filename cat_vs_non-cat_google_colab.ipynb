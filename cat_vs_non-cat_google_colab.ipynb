{
  "nbformat": 4,
  "nbformat_minor": 0,
  "metadata": {
    "colab": {
      "name": "Copy of Untitled4.ipynb",
      "provenance": [],
      "collapsed_sections": []
    },
    "kernelspec": {
      "name": "python3",
      "display_name": "Python 3"
    }
  },
  "cells": [
    {
      "cell_type": "code",
      "metadata": {
        "id": "60LVeV7NHpFE"
      },
      "source": [
        "import numpy as np\n",
        "import matplotlib.pyplot as plt\n",
        "import h5py\n",
        "import scipy\n",
        "from PIL import Image\n",
        "from scipy import ndimage\n",
        "\n",
        "%matplotlib inline"
      ],
      "execution_count": null,
      "outputs": []
    },
    {
      "cell_type": "code",
      "metadata": {
        "id": "6ZS5aLBDOs-L"
      },
      "source": [
        "def load_dataset():\n",
        "    train_dataset = h5py.File('train_catvnoncat.h5', \"r\")\n",
        "    train_set_x_orig = np.array(train_dataset[\"train_set_x\"][:]) # your train set features\n",
        "    train_set_y_orig = np.array(train_dataset[\"train_set_y\"][:]) # your train set labels\n",
        "\n",
        "    test_dataset = h5py.File('test_catvnoncat.h5', \"r\")\n",
        "    test_set_x_orig = np.array(test_dataset[\"test_set_x\"][:]) # your test set features\n",
        "    test_set_y_orig = np.array(test_dataset[\"test_set_y\"][:]) # your test set labels\n",
        "\n",
        "    classes = np.array(test_dataset[\"list_classes\"][:]) # the list of classes\n",
        "    \n",
        "    train_set_y_orig = train_set_y_orig.reshape((1, train_set_y_orig.shape[0]))\n",
        "    test_set_y_orig = test_set_y_orig.reshape((1, test_set_y_orig.shape[0]))\n",
        "    \n",
        "    return train_set_x_orig, train_set_y_orig, test_set_x_orig, test_set_y_orig, classes"
      ],
      "execution_count": null,
      "outputs": []
    },
    {
      "cell_type": "code",
      "metadata": {
        "id": "mkdIBLAUOs9B",
        "outputId": "5dd41f2f-ab9e-46bc-f921-60f5fb5849ff",
        "colab": {
          "base_uri": "https://localhost:8080/",
          "height": 34
        }
      },
      "source": [
        "train_set_x_orig, train_set_y, test_set_x_orig, test_set_y, classes = load_dataset()\n",
        "print(classes)"
      ],
      "execution_count": null,
      "outputs": [
        {
          "output_type": "stream",
          "text": [
            "[b'non-cat' b'cat']\n"
          ],
          "name": "stdout"
        }
      ]
    },
    {
      "cell_type": "code",
      "metadata": {
        "id": "Kuerb_eMbn7y",
        "outputId": "7bd63527-fa8e-4618-aefc-dbc085f590b2",
        "colab": {
          "base_uri": "https://localhost:8080/",
          "height": 85
        }
      },
      "source": [
        "print(train_set_x_orig.shape)\n",
        "print(train_set_y.shape)\n",
        "print(test_set_x_orig.shape)\n",
        "print(test_set_y.shape)"
      ],
      "execution_count": null,
      "outputs": [
        {
          "output_type": "stream",
          "text": [
            "(209, 64, 64, 3)\n",
            "(1, 209)\n",
            "(50, 64, 64, 3)\n",
            "(1, 50)\n"
          ],
          "name": "stdout"
        }
      ]
    },
    {
      "cell_type": "markdown",
      "metadata": {
        "id": "b_BLe_X-cpqa"
      },
      "source": [
        "**To see image**"
      ]
    },
    {
      "cell_type": "code",
      "metadata": {
        "id": "NMqVwGMWcklW",
        "outputId": "5f640fe2-49e1-439b-8cd8-998610c71dcc",
        "colab": {
          "base_uri": "https://localhost:8080/",
          "height": 285
        }
      },
      "source": [
        "index=15\n",
        "plt.imshow(train_set_x_orig[index])\n",
        "# print(train_set_y)\n",
        "label=train_set_y[0][index]\n",
        "# label=train_set_y[0,index]\n",
        "if(label):\n",
        "  print(\"Cat Image\")\n",
        "else:\n",
        "  print(\"Non-cat Image\")\n"
      ],
      "execution_count": null,
      "outputs": [
        {
          "output_type": "stream",
          "text": [
            "Non-cat Image\n"
          ],
          "name": "stdout"
        },
        {
          "output_type": "display_data",
          "data": {
            "image/png": "[encoded data removed]",
            "text/plain": [
              "<Figure size 432x288 with 1 Axes>"
            ]
          },
          "metadata": {
            "tags": [],
            "needs_background": "light"
          }
        }
      ]
    },
    {
      "cell_type": "code",
      "metadata": {
        "id": "TFCI7TUGHtdK"
      },
      "source": [
        ""
      ],
      "execution_count": null,
      "outputs": []
    },
    {
      "cell_type": "markdown",
      "metadata": {
        "id": "ykP9cyJEeefr"
      },
      "source": [
        "For convenience, you should now reshape images of shape (num_px, num_px, 3) in a numpy-array of shape (num_px  ∗∗  num_px  ∗∗  3, 1). After this, our training (and test) dataset is a numpy-array where each column represents a flattened image. There should be m_train (respectively m_test) columns.\n",
        "\n",
        "Exercise: Reshape the training and test data sets so that images of size (num_px, num_px, 3) are flattened into single vectors of shape (num_px  ∗∗  num_px  ∗∗  3, 1).\n",
        "\n",
        "A trick when you want to flatten a matrix X of shape (a,b,c,d) to a matrix X_flatten of shape (b ∗∗ c ∗∗ d, a) is to use:\n",
        "\n",
        "X_flatten = X.reshape(X.shape[0], -1).T      # X.T is the transpose of X"
      ]
    },
    {
      "cell_type": "code",
      "metadata": {
        "id": "1PpHe4ENeAyg",
        "outputId": "592b1d04-76d9-48b4-d693-bc02cedc12ba",
        "colab": {
          "base_uri": "https://localhost:8080/",
          "height": 119
        }
      },
      "source": [
        "train_set_flatten=train_set_x_orig.reshape(train_set_x_orig.shape[0],-1).T\n",
        "test_set_flatten=test_set_x_flatten=test_set_x_orig.reshape(test_set_x_orig.shape[0],-1).T\n",
        "print(train_set_flatten.shape)\n",
        "print(test_set_flatten.shape)\n",
        "\n",
        "print (\"train_set_x_flatten shape: \" + str(train_set_flatten.shape))\n",
        "print (\"train_set_y shape: \" + str(train_set_y.shape))\n",
        "print (\"test_set_x_flatten shape: \" + str(test_set_flatten.shape))\n",
        "print (\"test_set_y shape: \" + str(test_set_y.shape))"
      ],
      "execution_count": null,
      "outputs": [
        {
          "output_type": "stream",
          "text": [
            "(12288, 209)\n",
            "(12288, 50)\n",
            "train_set_x_flatten shape: (12288, 209)\n",
            "train_set_y shape: (1, 209)\n",
            "test_set_x_flatten shape: (12288, 50)\n",
            "test_set_y shape: (1, 50)\n"
          ],
          "name": "stdout"
        }
      ]
    },
    {
      "cell_type": "markdown",
      "metadata": {
        "id": "jSePFaSqhvS2"
      },
      "source": [
        "To represent color images, the red, green and blue channels (RGB) must be specified for each pixel, and so the pixel value is actually a vector of three numbers ranging from 0 to 255.\n",
        "\n",
        "One common preprocessing step in machine learning is to center and standardize your dataset, meaning that you substract the mean of the whole numpy array from each example, and then divide each example by the standard deviation of the whole numpy array. But for picture datasets, it is simpler and more convenient and works almost as well to just divide every row of the dataset by 255 (the maximum value of a pixel channel).\n",
        "\n",
        "Let's standardize our dataset."
      ]
    },
    {
      "cell_type": "code",
      "metadata": {
        "id": "415loZOShz8L"
      },
      "source": [
        "train_set_x = train_set_flatten/255.\n",
        "test_set_x = test_set_flatten/255."
      ],
      "execution_count": null,
      "outputs": []
    },
    {
      "cell_type": "markdown",
      "metadata": {
        "id": "K-BpJuUniK3-"
      },
      "source": [
        " compute  sigmoid(wTx+b)=11+e−(wTx+b)sigmoid(wTx+b)=11+e−(wTx+b) "
      ]
    },
    {
      "cell_type": "code",
      "metadata": {
        "id": "TXQBsXRRiMh5"
      },
      "source": [
        "def sigmoid(z):\n",
        "  return (1/(1+np.exp(-z)))\n",
        "\n",
        "# sigmoid function=1/(1+e^-z)\n",
        "# z is an array\n",
        "# sigmoid funtion convert every element of array to 1/(1+e^-(element))"
      ],
      "execution_count": null,
      "outputs": []
    },
    {
      "cell_type": "code",
      "metadata": {
        "id": "rNKJrXemYS1M"
      },
      "source": [
        "print (\"sigmoid([0, 2]) = \" + str(sigmoid(np.array([0,2]))))"
      ],
      "execution_count": null,
      "outputs": []
    },
    {
      "cell_type": "markdown",
      "metadata": {
        "id": "ao6L-PsXjlZ9"
      },
      "source": [
        "4.3 - Forward and Backward propagation\n",
        "Now that your parameters are initialized, you can do the \"forward\" and \"backward\" propagation steps for learning the parameters.\n",
        "\n",
        "Exercise: Implement a function propagate() that computes the cost function and its gradient.\n",
        "\n",
        "Hints:\n",
        "\n",
        "Forward Propagation:\n",
        "\n",
        "You get X\n",
        "You compute  A=σ(wTX+b)=(a(1),a(2),...,a(m−1),a(m))A=σ(wTX+b)=(a(1),a(2),...,a(m−1),a(m)) \n",
        "You calculate the cost function:  J=−1m∑mi=1y(i)log(a(i))+(1−y(i))log(1−a(i))J=−1m∑i=1my(i)log⁡(a(i))+(1−y(i))log⁡(1−a(i)) \n",
        "Here are the two formulas you will be using:\n",
        "\n",
        "∂J∂w=1mX(A−Y)T(7)\n",
        "(7)∂J∂w=1mX(A−Y)T\n",
        " \n",
        "∂J∂b=1m∑i=1m(a(i)−y(i))(8)"
      ]
    },
    {
      "cell_type": "code",
      "metadata": {
        "id": "k1GBHXSnjR5V"
      },
      "source": [
        "def propagate(w,b,X,Y):\n",
        "  m=X.shape[1]\n",
        "  # m No of columns in X or number of examples\n",
        "  #w dimesnion is (nx,1)\n",
        "  #Y dimesnion is (1,m)\n",
        "  #A dimesnion is (2,1)^T*(2,2)=(1,2)\n",
        "\n",
        "  #Forward propagagtion\n",
        "  A = sigmoid((np.dot(w.T, X) + b)) \n",
        "  # print(f\"dimension of A is : {A.shape}\")\n",
        "  # temp=-1./m*(Y*np.log(A) + (1-Y)*np.log(1-A))\n",
        "  # print(temp)\n",
        "  cost = -(1/m)* np.sum((Y*np.log(A)) + (1-Y)*np.log(1-A))\n",
        "  #cost dimension will be of dimension of Y but but we did np.sum(sum of all elements of matrix) to convert into a integer.\n",
        "\n",
        "  #Backpropagation\n",
        "  # dZ=(A-Y)\n",
        "  dw=1/m*np.dot(X,(A-Y).T)\n",
        "  print(f\"X shape is : {X.shape}\")\n",
        "  print(f\"A shape is : {A.shape}\") \n",
        "  print(f\"Y shape is : {Y.shape}\")  \n",
        "  #X dimension is (Nx,m) and dimension of dZ is (1,m),to multiply we transposed dz\n",
        "  #dimension of X and dZ would be same,so we transposed dZ\n",
        "  db=1/m*np.sum(A-Y)\n",
        "  print(f\"dw shape is : {dw.shape}\")\n",
        "  print(f\"w shape is : {w.shape}\")\n",
        "  print(f\"A-Y shape is : {(A-Y).shape}\") \n",
        "  assert(dw.shape == w.shape)\n",
        "  \n",
        "  cost = np.squeeze(cost)\n",
        "\n",
        "  grades={\"dw\":dw,\n",
        "          \"db\":db}\n",
        "  return grades,cost"
      ],
      "execution_count": null,
      "outputs": []
    },
    {
      "cell_type": "code",
      "metadata": {
        "id": "n5ojUcHEkpeV"
      },
      "source": [
        "w, b, X, Y = np.array([[1.],[2.]]), 2., np.array([[1.,2.,-1.],[3.,4.,-3.2]]), np.array([[1,0,1]])\n",
        "grads, cost = propagate(w, b, X, Y)\n",
        "print (\"dw = \" + str(grads[\"dw\"]))\n",
        "print (\"db = \" + str(grads[\"db\"]))\n",
        "print (\"cost = \" + str(cost))\n",
        "print(w)\n",
        "print(b)\n",
        "print(X)"
      ],
      "execution_count": null,
      "outputs": []
    },
    {
      "cell_type": "markdown",
      "metadata": {
        "id": "oULpnAC-qaB4"
      },
      "source": [
        "d) Optimization\n",
        "You have initialized your parameters.\n",
        "You are also able to compute a cost function and its gradient.\n",
        "Now, you want to update the parameters using gradient descent.\n",
        "Exercise: Write down the optimization function. The goal is to learn  w  and  b  by minimizing the cost function  J . For a parameter  θ , the update rule is  θ=θ−α dθ , where  α  is the learning rate."
      ]
    },
    {
      "cell_type": "code",
      "metadata": {
        "id": "mk8hCnryqLk0"
      },
      "source": [
        "def optimize(w,b,X,Y,num_iterations,learning_rate,print_cost= False ):\n",
        "  costs=[]\n",
        "  # print(f\"dimension of w is : {w.shape}\")\n",
        "  # print(f\"dimenison of x is : {X.shape}\")\n",
        "  for i in range(num_iterations):\n",
        "    grads,cost=propagate(w,b,X,Y)\n",
        "    dw=grads[\"dw\"]\n",
        "    db=grads[\"db\"]\n",
        "    w=w-learning_rate*dw\n",
        "    b=b-learning_rate*db\n",
        "    \n",
        "    if(i%100) == 0:\n",
        "      costs.append(cost)\n",
        "\n",
        "  params={\"w\":w,\n",
        "            \"b\":b}\n",
        "  grads={\"dw\":dw,\n",
        "           \"db\":db}\n",
        "  return params,grads,costs\n"
      ],
      "execution_count": null,
      "outputs": []
    },
    {
      "cell_type": "code",
      "metadata": {
        "id": "x73SqH4HmSq8"
      },
      "source": [
        "params, grads, costs = optimize(w, b, X, Y, num_iterations= 1000, learning_rate = 0.009, print_cost = False)\n",
        "\n",
        "print (\"w = \" + str(params[\"w\"]))\n",
        "print (\"b = \" + str(params[\"b\"]))\n",
        "print (\"dw = \" + str(grads[\"dw\"]))\n",
        "print (\"db = \" + str(grads[\"db\"]))"
      ],
      "execution_count": null,
      "outputs": []
    },
    {
      "cell_type": "markdown",
      "metadata": {
        "id": "eRiJlZmpxRyz"
      },
      "source": [
        "Function to predict the Y_train and Y_test"
      ]
    },
    {
      "cell_type": "code",
      "metadata": {
        "id": "iSTGYABzQg4m"
      },
      "source": [
        "def predict(w,b,X):\n",
        "  m=X.shape[1]\n",
        "  Y_prediction=np.zeros((1,m))\n",
        "  print(Y_prediction)\n",
        "  w = w.reshape(X.shape[0], 1)\n",
        "  A=sigmoid(np.dot(w.T,X)+b)\n",
        "  print(A)\n",
        "  #dimesnion of A must be equal to dimeanion of Y or Y_prediction i.e. (1,m)\n",
        "  for i in range(A.shape[1]):\n",
        "    if(A[0,i]>0.5):\n",
        "      Y_prediction[0,i]=1\n",
        "    else:\n",
        "      Y_prediction[0,i]=0\n",
        "  assert(Y_prediction.shape == (1, m))\n",
        "    \n",
        "  return Y_prediction\n",
        "\n"
      ],
      "execution_count": null,
      "outputs": []
    },
    {
      "cell_type": "code",
      "metadata": {
        "id": "mnFhc0AdQkvd"
      },
      "source": [
        "# w=np.zeros((train_set_x.shape[0],1))\n",
        "# b=0\n",
        "# print(f\"dimension of  w: {w.shape}\")\n",
        "# y=predict(w,b,train_set_x)\n",
        "\n",
        "w = np.array([[0.1124579],[0.23106775]])\n",
        "b = -0.3\n",
        "X = np.array([[1.,-1.1,-3.2],[1.2,2.,0.1]])\n",
        "print (\"predictions = \" + str(predict(w, b, X)))"
      ],
      "execution_count": null,
      "outputs": []
    },
    {
      "cell_type": "code",
      "metadata": {
        "id": "AX5UVROAuezt"
      },
      "source": [
        "def model(X_train,Y_train,X_test,Y_test,num_iterations=2000,learning_rate=0.5,print_cost=False):\n",
        "  #initialise w and b matrix with zeros\n",
        "  w=np.zeros((X_train.shape[0],1))\n",
        "  b=0\n",
        "  #X_train=X whose dimension is (nx,m)\n",
        "  parameters,grads,costs=optimize(w,b,X_train,Y_train,num_iterations,learning_rate,print_cost)\n",
        "  \n",
        "  w=parameters[\"w\"]\n",
        "  b=parameters[\"b\"]\n",
        "\n",
        "  Y_prediction_test=predict(w,b,X_test)\n",
        "  Y_prediction_train=predict(w,b,X_train)\n",
        "  \n",
        "  # print(\"train accuracy: {} %\".format(100 - np.mean(np.abs(Y_prediction_train - Y_train)) * 100))\n",
        "  # print(\"test accuracy: {} %\".format(100 - np.mean(np.abs(Y_prediction_test - Y_test)) * 100))\n",
        "  \n",
        "  d = {\"costs\": costs,\n",
        "         \"Y_prediction_test\": Y_prediction_test, \n",
        "         \"Y_prediction_train\" : Y_prediction_train, \n",
        "         \"w\" : w, \n",
        "         \"b\" : b,\n",
        "         \"learning_rate\" : learning_rate,\n",
        "         \"num_iterations\": num_iterations}\n",
        "  return d\n",
        "\n"
      ],
      "execution_count": null,
      "outputs": []
    },
    {
      "cell_type": "code",
      "metadata": {
        "id": "kgyIkgzIs6wr"
      },
      "source": [
        "d = model(train_set_x,train_set_y, test_set_x, test_set_y,num_iterations = 2000,learning_rate = 0.5, print_cost = True)"
      ],
      "execution_count": null,
      "outputs": []
    },
    {
      "cell_type": "code",
      "metadata": {
        "id": "RlvSIQiNfOLX"
      },
      "source": [
        "# Example of a picture that was wrongly classified.\n",
        "index = 49\n",
        "plt.imshow(test_set_x[:,index].reshape((64, 64, 3)))\n",
        "temp=d[\"Y_prediction_test\"][0,index]\n",
        "if(temp):\n",
        "  print(\"cat Image\")\n",
        "else:\n",
        "  print(\"Non-Cat Image\")"
      ],
      "execution_count": null,
      "outputs": []
    }
  ]
}